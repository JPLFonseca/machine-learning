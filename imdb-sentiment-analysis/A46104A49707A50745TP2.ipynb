{
 "cells": [
  {
   "cell_type": "markdown",
   "id": "cfdc07bf",
   "metadata": {},
   "source": [
    "## ISEL - 5º Semestre 2024/25\n",
    "\n",
    "#### <br>\n",
    "# <center> Aprendizagem Automática (AA) </center>\n",
    "##  <center> 2º Trabalho Laboratorial </center>\n",
    "### <center> Classificação de Críticas de Cinema do IMDb </center>\n",
    "#### </br>\n",
    "\n",
    "### Grupo:\n",
    "* Hugo Sousa, número <b> 46104 </b>\n",
    "* João Fonseca, número <b> 49707 </b>\n",
    "* Guilherme Vicente, número <b> 50745 </b>\n",
    "\n",
    "### Docente:\n",
    "* Engenheiro Gonçalo Marques\n",
    "\n",
    "<b>Data de Entrega:</b> 22/12/2024\n",
    "\n",
    "<b>Enunciado:</b> https://2425moodle.isel.pt/pluginfile.php/1265321/mod_resource/content/1/TP_imdb_24-25.pdf"
   ]
  },
  {
   "cell_type": "markdown",
   "id": "234d2479",
   "metadata": {},
   "source": [
    "---"
   ]
  },
  {
   "cell_type": "markdown",
   "id": "021d4bf5",
   "metadata": {},
   "source": [
    "<a id=\"indice\"></a>\n",
    "# Índice"
   ]
  },
  {
   "cell_type": "markdown",
   "id": "7bc63c3e",
   "metadata": {},
   "source": [
    "- [Introdução](#intro)\n",
    "- [Imports](#imp)\n",
    "- [Desenvolvimento](#desenv)\n",
    "    - [Preparação e Estudo dos Dados](#prep)\n",
    "    - [Ridge](#rdg)\n",
    "    - [Logistic Regression](#lrc)\n",
    "- [Clustering](#clt)\n",
    "- [Conclusões](#conc)\n",
    "- [Bibliografia](#bib)"
   ]
  },
  {
   "cell_type": "markdown",
   "id": "e2a7c135",
   "metadata": {},
   "source": [
    "---"
   ]
  },
  {
   "cell_type": "markdown",
   "id": "a42b7ae0",
   "metadata": {},
   "source": [
    "<a id=\"intro\"></a>\n",
    "# Introdução\n",
    "A análise de sentimentos e a classificação de textos são áreas centrais na Aprendizagem Automática e no processamento de linguagem natural (NLP). Com o crescimento exponencial de dados textuais disponíveis online, tornou-se essencial desenvolver métodos eficazes para extrair informações significativas dessas fontes. Neste contexto, as críticas de cinema disponibilizadas pelo Internet Movie Database (**IMDb**) representam um recurso valioso para a investigação de técnicas de classificação, regressão e agrupamento de textos.  \n",
    "Neste trabalho, utilizaremos um conjunto de dados, fornecidos pelo docente (`imdbFull.p`), composto por 50.000 críticas de cinema retiradas da base de dados do IMDb. Cada crítica está associada a uma pontuação que varia de 1 a 10, representando a avaliação do utilizador em relação ao filme. Críticas com pontuações neutras (5 e 6) foram excluídas para focar nas opiniões mais claras, sejam elas positivas ou negativas."
   ]
  },
  {
   "cell_type": "markdown",
   "id": "c94f2059",
   "metadata": {},
   "source": [
    "## Objetivos\n",
    "O principal objetivo deste trabalho é desenvolver e avaliar modelos de aprendizagem automática que possam prever a pontuação das críticas de cinema do IMDb. Para alcançar este objetivo, o trabalho está dividido em três tarefas principais:\n",
    "\n",
    "**Classificação Multi-classe**: Treinar e avaliar um classificador que prevê a pontuação da crítica.  \n",
    "**Regressão**: Treinar e avaliar um regressor que prevê a pontuação da crítica.  \n",
    "**Clustering**: Agrupar as críticas de forma não supervisionada para identificar padrões e tópicos comuns.  \n",
    "\n",
    "\n",
    "## Metodologia\n",
    "Para atingir os objetivos propostos, será adotada a seguinte abordagem:\n",
    "\n",
    "- **Construção do Vocabulário**: Limpeza dos textos das críticas e técnicas de vetorização, como o `TfidfVectorizer`, para construir um vocabulário representativo.\n",
    "- **Modelagem**:\n",
    "    - **Classificação e Regressão**: Utilização do mesmo vocabulário para ambas as tarefas, selecionando modelos adequados para cada uma. Comparação dos desempenhos dos classificadores com os dos regressores, convertendo as predições dos modelos de regressão para uma escala de 1 a 10.  \n",
    "    - **Avaliação de Desempenho**: Seleção das metodologias de teste apropriadas e utilização de métricas de desempenho específicas para cada tarefa (accuracy para classificação e erro médio absoluto para regressão).  \n",
    "- **Clustering**: Aplicação de métodos de agrupamento para identificar grupos de críticas com tópicos específicos. Análise da variação no número de clusters e como isto afeta a performance dos algoritmos de agrupamento.  "
   ]
  },
  {
   "cell_type": "markdown",
   "id": "04fafd8b",
   "metadata": {},
   "source": [
    "---"
   ]
  },
  {
   "cell_type": "markdown",
   "id": "3c448e8a",
   "metadata": {},
   "source": [
    "<a id=\"imp\"></a>\n",
    "# Imports"
   ]
  },
  {
   "cell_type": "code",
   "execution_count": 1,
   "id": "80bab3d9",
   "metadata": {},
   "outputs": [],
   "source": [
    "import numpy as np\n",
    "import matplotlib.pyplot as plt\n",
    "import pickle\n",
    "import seaborn as sns\n",
    "import re\n",
    "from sklearn.feature_extraction.text import TfidfVectorizer\n",
    "from sklearn.model_selection import train_test_split\n",
    "from nltk.stem import PorterStemmer\n",
    "import time\n",
    "from sklearn.linear_model import Ridge, LogisticRegression\n",
    "from sklearn.model_selection import GridSearchCV\n",
    "from sklearn.metrics import mean_squared_error, r2_score, confusion_matrix,accuracy_score, silhouette_score\n",
    "from sklearn.cluster import KMeans"
   ]
  },
  {
   "cell_type": "markdown",
   "id": "d8906c16",
   "metadata": {},
   "source": [
    "---"
   ]
  },
  {
   "cell_type": "markdown",
   "id": "da1515f7",
   "metadata": {},
   "source": [
    "<a id=\"desenv\"></a>\n",
    "# Desenvolvimento"
   ]
  },
  {
   "cell_type": "markdown",
   "id": "5dab80fa",
   "metadata": {},
   "source": [
    "<a id=\"prep\"></a>\n",
    "## Preparação e Estudo dos Dados"
   ]
  },
  {
   "cell_type": "code",
   "execution_count": 2,
   "id": "f9dddba3",
   "metadata": {
    "scrolled": true
   },
   "outputs": [
    {
     "data": {
      "text/plain": [
       "dict_keys(['data', 'target', 'DESCR'])"
      ]
     },
     "execution_count": 2,
     "metadata": {},
     "output_type": "execute_result"
    }
   ],
   "source": [
    "D = pickle.load(open('imdbFull.p','rb'))\n",
    "D.keys()"
   ]
  },
  {
   "cell_type": "code",
   "execution_count": 3,
   "id": "6e5f7a52",
   "metadata": {},
   "outputs": [],
   "source": [
    "Docs   = D.data   # críticas\n",
    "target = D.target # avaliações"
   ]
  },
  {
   "cell_type": "markdown",
   "id": "d78c3a15",
   "metadata": {},
   "source": [
    "- Docs é uma lista de stings que contém os textos das críticas de cinema.\n",
    "- target é um NumPy array que contém as pontuações das críticas, numa escala de 1 a 10."
   ]
  },
  {
   "cell_type": "code",
   "execution_count": 4,
   "id": "21e46c39",
   "metadata": {},
   "outputs": [
    {
     "data": {
      "image/png": "[encoded data removed]",
      "text/plain": [
       "<Figure size 720x432 with 1 Axes>"
      ]
     },
     "metadata": {
      "needs_background": "light"
     },
     "output_type": "display_data"
    }
   ],
   "source": [
    "unique, counts = np.unique(target, return_counts=True)\n",
    "plt.figure(figsize=(10,6))\n",
    "sns.barplot(x=unique, y=counts, palette='viridis')\n",
    "plt.xlabel('Pontuação da Crítica')\n",
    "plt.ylabel('Número de Críticas')\n",
    "plt.title('Distribuição das Pontuações das Críticas de Cinema')\n",
    "plt.show()"
   ]
  },
  {
   "cell_type": "markdown",
   "id": "72f1e92a",
   "metadata": {},
   "source": [
    "A distribuição das pontuações revela um desbalanceamento nas classes, com maior concentração nas pontuações extremas. Essa distribuição demonstra que a maioria das opiniões tende a ser positiva ou negativa, com poucas críticas neutras. Isto pode ser benéfico para o número de acertos na avaliação, pois indica que estas críticas contêm palavras muito positivas ou muito negativas."
   ]
  },
  {
   "cell_type": "code",
   "execution_count": 6,
   "id": "277b1b74",
   "metadata": {},
   "outputs": [
    {
     "name": "stdout",
     "output_type": "stream",
     "text": [
      "Média das Pontuações: 5.50\n",
      "Desvio Padrão: 3.48\n",
      "Pontuação Mínima: 1\n",
      "Pontuação Máxima: 10\n"
     ]
    }
   ],
   "source": [
    "media         = np.mean(target)\n",
    "desvio_padrao = np.std(target)\n",
    "min_val       = np.min(target)\n",
    "max_val       = np.max(target)\n",
    "\n",
    "print(f\"Média das Pontuações: {media:.2f}\")\n",
    "print(f\"Desvio Padrão: {desvio_padrao:.2f}\")\n",
    "print(f\"Pontuação Mínima: {min_val}\")\n",
    "print(f\"Pontuação Máxima: {max_val}\")"
   ]
  },
  {
   "cell_type": "code",
   "execution_count": 7,
   "id": "834816fb",
   "metadata": {},
   "outputs": [
    {
     "name": "stdout",
     "output_type": "stream",
     "text": [
      "Número de Críticas Positivas (7-10): 25000\n",
      "Número de Críticas Negativas (1-4): 25000\n"
     ]
    }
   ],
   "source": [
    "# Contagem\n",
    "num_positivas = np.sum(target > 6)\n",
    "num_negativas = np.sum(target < 5)\n",
    "\n",
    "print(f\"Número de Críticas Positivas (7-10): {num_positivas}\")\n",
    "print(f\"Número de Críticas Negativas (1-4): {num_negativas}\")"
   ]
  },
  {
   "cell_type": "markdown",
   "id": "e173cb0d",
   "metadata": {},
   "source": [
    "- Número Total de Críticas: 50.000\n",
    "- A média das pontuações (5.50) indica uma distribuição equilibrada entre críticas positivas e negativas.\n",
    "- O desvio padrão (3.48) mostra uma alta variabilidade nas pontuações, sugerindo uma ampla gama de opiniões dos usuários.\n",
    "- O conjunto de dados está perfeitamente balanceado entre críticas positivas e negativas (50% cada), facilitando o treinamento de modelos de classificação sem a necessidade imediata de técnicas de balanceamento."
   ]
  },
  {
   "cell_type": "markdown",
   "id": "270417f2",
   "metadata": {},
   "source": [
    "---"
   ]
  },
  {
   "cell_type": "markdown",
   "id": "e8fecf25",
   "metadata": {},
   "source": [
    "<a id=\"construct\"></a>\n",
    "## Construção do Vocabulário\n",
    "A construção do vocabulário é essencial para o bom desempenho dos modelos. Um vocabulário bem construído permite que os modelos capturem as características mais relevantes dos textos das críticas, melhorando assim a precisão das tarefas de classificação, regressão e clustering. Neste capítulo, detalhamos os passos utilizados para construir o vocabulário a partir do conjunto de dados IMDb, incluindo a divisão em conjuntos de treino e teste, limpeza dos textos, aplicação de stemming e vetorização com TF-IDF."
   ]
  },
  {
   "cell_type": "markdown",
   "id": "c3e4899f",
   "metadata": {},
   "source": [
    "### Divisão do Conjunto de Dados\n",
    "Antes de iniciar o processamento textual, é essencial dividir o conjunto de dados em conjuntos de treino e teste. Essa divisão garante que o modelo seja treinado em uma parte dos dados e avaliado em outra, prevenindo overfitting e permitindo uma avaliação mais realista de seu desempenho."
   ]
  },
  {
   "cell_type": "markdown",
   "id": "e3264f22",
   "metadata": {},
   "source": [
    "### Limpeza dos Textos\n",
    "A limpeza dos textos incide sobre a remoção de ruídos e preparação dos dados para análises subsequentes. Utilizamos a função limpar para substituir quebras de linha HTML e remover caracteres não alfabéticos, garantindo que os textos contenham apenas letras sem acentos."
   ]
  },
  {
   "cell_type": "code",
   "execution_count": 7,
   "id": "22cedbbf",
   "metadata": {},
   "outputs": [],
   "source": [
    "def limpar(docs):\n",
    "    \"\"\"\n",
    "    Limpa os documentos removendo caracteres indesejados.\n",
    "    \n",
    "    Argumentos:\n",
    "    - docs: Lista de strings contendo os documentos a serem limpos.\n",
    "    \n",
    "    Retorna:\n",
    "    - Lista de documentos limpos.\n",
    "    \"\"\"\n",
    "    # Substituição de quebras de linha HTML por espaços\n",
    "    d = [doc.replace('<br />',' ') for doc in docs]\n",
    "    \n",
    "    # Remoção de caracteres não alfabéticos (mantém apenas letras)\n",
    "    # \\u00C0-\\u00FF remove caracteres com acentos\n",
    "    d = [re.sub(r'[^a-zA-Z\\u00C0-\\u00FF]+', ' ', doc) for doc in d]\n",
    "    return d"
   ]
  },
  {
   "cell_type": "markdown",
   "id": "a9613f49",
   "metadata": {},
   "source": [
    "### Stemming\n",
    "Stemming é o processo de reduzir as palavras ao seu radical, removendo sufixos e, em alguns casos, prefixos. Isso ajuda a normalizar o vocabulário, tratando variações de uma mesma palavra como uma única entidade. Realizamos o stemming antes da vetorização para garantir que diferentes formas de uma palavra sejam agrupadas adequadamente, melhorando a representação das características.  \n",
    "\n",
    "Existem vários algoritmos de stemming:\n",
    "- **Porter Stemmer**: Oferece um bom equilíbrio entre simplicidade e precisão, removendo sufixos comuns com eficácia.\n",
    "- **Snowball Stemmer**: Uma extensão do Porter Stemmer que suporta múltiplos idiomas e é mais flexível.\n",
    "- **Lancaster Stemmer**: Mais agressivo na remoção de sufixos, resultando em radicais mais curtos e, às vezes, menos precisos.\n",
    "\n",
    "Foi escolhido o Porter Stemmer, por oferecer um bom equilíbrio entre remoção de sufixos e preservação do significado das palavras."
   ]
  },
  {
   "cell_type": "code",
   "execution_count": 9,
   "id": "39edb3aa",
   "metadata": {},
   "outputs": [],
   "source": [
    "def stemming(docs):\n",
    "    \"\"\"\n",
    "    Aplica o Porter Stemmer nos documentos.\n",
    "    \n",
    "    Argumentos:\n",
    "    - docs: Lista de strings.\n",
    "    \n",
    "    Retorna:\n",
    "    - Lista de documentos com palavras reduzidas ao radical.\n",
    "    \"\"\"\n",
    "    stemmer      = PorterStemmer()\n",
    "    docs_stemmed = [' '.join([stemmer.stem(w) for w in doc.split()]) for doc in docs]\n",
    "    return docs_stemmed"
   ]
  },
  {
   "cell_type": "markdown",
   "id": "306ede89",
   "metadata": {},
   "source": [
    "### Vetorização com TF-IDF\n",
    "`TfidVectorizer`: é uma ferramenta do scikit-learn utilizada para converter uma coleção de documentos de texto numa matriz de características numéricas. Combina duas etapas principais:\n",
    "\n",
    "- **Term Frequency (TF)**: Mede a frequência de uma palavra num documento.\n",
    "- **Inverse Document Frequency (IDF)**: Mede a importância de uma palavra em todo o corpus, reduzindo o peso de palavras comuns e aumentando o peso de palavras raras.  \n",
    "\n",
    "A combinação de TF e IDF resulta no TF-IDF, que ajuda a destacar palavras que são importantes para um documento específico, mas que não são comuns em todo o conjunto de dados. Quanto mais alto for o TF-IDF, mais importante é essa palavra, aproximando-se de 0 quando esta for menos relevante.  "
   ]
  },
  {
   "cell_type": "code",
   "execution_count": 11,
   "id": "08aad44d",
   "metadata": {},
   "outputs": [],
   "source": [
    "def vetorizacao(docs):\n",
    "    \"\"\"\n",
    "    Vetoriza os documentos utilizando TF-IDF.\n",
    "    \n",
    "    Argumentos:\n",
    "    - docs: Lista de strings.\n",
    "    \n",
    "    Retorna:\n",
    "    - tfidf: Objeto TfidfVectorizer treinado.\n",
    "    - tokens: Lista de tokens extraídos pelo TfidfVectorizer.\n",
    "    \"\"\"\n",
    "    tfidf = TfidfVectorizer(\n",
    "        min_df        = 4,             # Considera tokens que aparecem em pelo menos 4 documentos\n",
    "        ngram_range   = (1,2),         # Bi-gramas\n",
    "        token_pattern = r'\\b\\w\\w\\w+\\b' # Tokens com 3 ou mais caracteres\n",
    "    ).fit(docs)\n",
    "    \n",
    "    tokens = tfidf.get_feature_names_out()\n",
    "    return tfidf, tokens"
   ]
  },
  {
   "cell_type": "markdown",
   "id": "052e9818",
   "metadata": {},
   "source": [
    "### Salvar os Vocabulários\n",
    "O processo de treino dos modelos de vetorização, como o TfidfVectorizer, é computacionalmente dispendioso e demorado, especialmente em conjuntos de dados grandes como o IMDb, que contém 50.000 críticas. Para otimizar o fluxo de trabalho e evitar a repetição desnecessária do processo de vetorização, é necessário salvar os vocabulários limpos e os objetos treinados do TfidfVectorizer em ficheiros pickle. Isso permite reutilizar os vocabulários e os vetorizadores treinados em diferentes partes do projeto sem a necessidade de reprocessar os dados a cada execução."
   ]
  },
  {
   "cell_type": "code",
   "execution_count": 13,
   "id": "251e27a5-a023-4781-b967-83d2889b554c",
   "metadata": {},
   "outputs": [
    {
     "name": "stdout",
     "output_type": "stream",
     "text": [
      "Tempo de execução: 89.53 segundos\n"
     ]
    }
   ],
   "source": [
    "# Construção do vocabulário\n",
    "# Divisão em treino e teste (50% treino, 50% teste)\n",
    "Docs_train, Docs_test, y_train, y_test = train_test_split(Docs, target, test_size=0.5, random_state=42)\n",
    "inicio = time.time()\n",
    "\n",
    "# Dados de Treino\n",
    "docs1 = limpar(Docs_train) # Limpar\n",
    "pickle.dump(docs1, open(\"dados_limpos.p\",'wb'))\n",
    "docs1 = stemming(docs1)    # Stemming\n",
    "pickle.dump(docs1, open(\"dados_stem.p\",'wb'))\n",
    "#tfidf_train, tokens_train = vetorizacao(docs1) # Vetorização\n",
    "\n",
    "fim = time.time()\n",
    "print(f\"Tempo de execução: {fim-inicio:.2f} segundos\")"
   ]
  },
  {
   "cell_type": "markdown",
   "id": "f0d3d151",
   "metadata": {},
   "source": [
    "O tempo necessário para fazer todo o processo de limpeza do conjunto de treino, foi de 71 segundos. Posto isto, é útil a gravação dos documentos num ficheiro pickle para mais tarde reutilizar."
   ]
  },
  {
   "cell_type": "code",
   "execution_count": 47,
   "id": "d2d05705",
   "metadata": {},
   "outputs": [
    {
     "name": "stdout",
     "output_type": "stream",
     "text": [
      "Crítica Inicial: \n",
      " Wow, I just LOVED watching all these hot babes! The scenery around Malibu and California was off the fizzy. I could watch it again just to see all that flesh crammed into those tiny, teeny bikinis! I recently saw Pilar Lastra, the steaming hot housekeeper in Malibu Spring Break, as a center fold in my favorite mag, PLAYBOY. She is hot, hot HOT! The opening seen was bitchin. When the two main girls run out of gas and stop at this desert gas station, they drive the gas-guy nuts with their bodies and skimpy outfits! The slow-mo lets me enjoy every inch of them! My girlfriend liked looking at this shredded hot dude too (now I'd like a bod like that) and at all the other hot dudes....and some of the girls too! Any movie that can bring that out in my girlfriend is a 10 + for me!\n",
      "------------------------------------------------------------------------------------------------------------------------\n",
      "Crítica Após Limpeza: \n",
      " wow i just love watch all these hot babe the sceneri around malibu and california wa off the fizzi i could watch it again just to see all that flesh cram into those tini teeni bikini i recent saw pilar lastra the steam hot housekeep in malibu spring break as a center fold in my favorit mag playboy she is hot hot hot the open seen wa bitchin when the two main girl run out of ga and stop at thi desert ga station they drive the ga guy nut with their bodi and skimpi outfit the slow mo let me enjoy everi inch of them my girlfriend like look at thi shred hot dude too now i d like a bod like that and at all the other hot dude and some of the girl too ani movi that can bring that out in my girlfriend is a for me\n"
     ]
    }
   ],
   "source": [
    "print('Crítica Inicial: \\n', Docs_train[0])\n",
    "print('-'*120)\n",
    "print('Crítica Após Limpeza: \\n', docs1[0])"
   ]
  },
  {
   "cell_type": "code",
   "execution_count": 30,
   "id": "338e2436",
   "metadata": {},
   "outputs": [
    {
     "name": "stderr",
     "output_type": "stream",
     "text": [
      "C:\\ProgramData\\Anaconda3\\lib\\site-packages\\sklearn\\utils\\deprecation.py:87: FutureWarning: Function get_feature_names is deprecated; get_feature_names is deprecated in 1.0 and will be removed in 1.2. Please use get_feature_names_out instead.\n",
      "  warnings.warn(msg, category=FutureWarning)\n"
     ]
    },
    {
     "name": "stdout",
     "output_type": "stream",
     "text": [
      "Teste concluído em 621.32 segundos\n",
      "min_df: 1, token_pattern: \\b\\w\\w+\\b, ngram_range: (1, 1), vocab_size: 51498\n",
      "min_df: 1, token_pattern: \\b\\w\\w+\\b, ngram_range: (1, 2), vocab_size: 1274944\n",
      "min_df: 1, token_pattern: \\b\\w\\w+\\b, ngram_range: (1, 3), vocab_size: 4721098\n",
      "min_df: 1, token_pattern: \\b\\w\\w\\w+\\b, ngram_range: (1, 1), vocab_size: 51016\n",
      "min_df: 1, token_pattern: \\b\\w\\w\\w+\\b, ngram_range: (1, 2), vocab_size: 1382373\n",
      "min_df: 1, token_pattern: \\b\\w\\w\\w+\\b, ngram_range: (1, 3), vocab_size: 4663711\n",
      "min_df: 1, token_pattern: \\b\\w\\w\\w\\w+\\b, ngram_range: (1, 1), vocab_size: 48938\n",
      "min_df: 1, token_pattern: \\b\\w\\w\\w\\w+\\b, ngram_range: (1, 2), vocab_size: 1449519\n",
      "min_df: 1, token_pattern: \\b\\w\\w\\w\\w+\\b, ngram_range: (1, 3), vocab_size: 4228203\n",
      "min_df: 1, token_pattern: \\b\\w\\w\\w\\w\\w+\\b, ngram_range: (1, 1), vocab_size: 43482\n",
      "min_df: 1, token_pattern: \\b\\w\\w\\w\\w\\w+\\b, ngram_range: (1, 2), vocab_size: 1139491\n",
      "min_df: 1, token_pattern: \\b\\w\\w\\w\\w\\w+\\b, ngram_range: (1, 3), vocab_size: 2875013\n",
      "min_df: 1, token_pattern: \\b\\w\\w\\w\\w\\w\\w+\\b, ngram_range: (1, 1), vocab_size: 35150\n",
      "min_df: 1, token_pattern: \\b\\w\\w\\w\\w\\w\\w+\\b, ngram_range: (1, 2), vocab_size: 756199\n",
      "min_df: 1, token_pattern: \\b\\w\\w\\w\\w\\w\\w+\\b, ngram_range: (1, 3), vocab_size: 1767518\n",
      "min_df: 2, token_pattern: \\b\\w\\w+\\b, ngram_range: (1, 1), vocab_size: 29695\n",
      "min_df: 2, token_pattern: \\b\\w\\w+\\b, ngram_range: (1, 2), vocab_size: 390945\n",
      "min_df: 2, token_pattern: \\b\\w\\w+\\b, ngram_range: (1, 3), vocab_size: 857980\n",
      "min_df: 2, token_pattern: \\b\\w\\w\\w+\\b, ngram_range: (1, 1), vocab_size: 29299\n",
      "min_df: 2, token_pattern: \\b\\w\\w\\w+\\b, ngram_range: (1, 2), vocab_size: 378318\n",
      "min_df: 2, token_pattern: \\b\\w\\w\\w+\\b, ngram_range: (1, 3), vocab_size: 701666\n",
      "min_df: 2, token_pattern: \\b\\w\\w\\w\\w+\\b, ngram_range: (1, 1), vocab_size: 27907\n",
      "min_df: 2, token_pattern: \\b\\w\\w\\w\\w+\\b, ngram_range: (1, 2), vocab_size: 350509\n",
      "min_df: 2, token_pattern: \\b\\w\\w\\w\\w+\\b, ngram_range: (1, 3), vocab_size: 489395\n",
      "min_df: 2, token_pattern: \\b\\w\\w\\w\\w\\w+\\b, ngram_range: (1, 1), vocab_size: 24223\n",
      "min_df: 2, token_pattern: \\b\\w\\w\\w\\w\\w+\\b, ngram_range: (1, 2), vocab_size: 231582\n",
      "min_df: 2, token_pattern: \\b\\w\\w\\w\\w\\w+\\b, ngram_range: (1, 3), vocab_size: 265408\n",
      "min_df: 2, token_pattern: \\b\\w\\w\\w\\w\\w\\w+\\b, ngram_range: (1, 1), vocab_size: 18909\n",
      "min_df: 2, token_pattern: \\b\\w\\w\\w\\w\\w\\w+\\b, ngram_range: (1, 2), vocab_size: 136335\n",
      "min_df: 2, token_pattern: \\b\\w\\w\\w\\w\\w\\w+\\b, ngram_range: (1, 3), vocab_size: 148656\n",
      "min_df: 3, token_pattern: \\b\\w\\w+\\b, ngram_range: (1, 1), vocab_size: 23623\n",
      "min_df: 3, token_pattern: \\b\\w\\w+\\b, ngram_range: (1, 2), vocab_size: 240865\n",
      "min_df: 3, token_pattern: \\b\\w\\w+\\b, ngram_range: (1, 3), vocab_size: 461702\n",
      "min_df: 3, token_pattern: \\b\\w\\w\\w+\\b, ngram_range: (1, 1), vocab_size: 23289\n",
      "min_df: 3, token_pattern: \\b\\w\\w\\w+\\b, ngram_range: (1, 2), vocab_size: 221855\n",
      "min_df: 3, token_pattern: \\b\\w\\w\\w+\\b, ngram_range: (1, 3), vocab_size: 359723\n",
      "min_df: 3, token_pattern: \\b\\w\\w\\w\\w+\\b, ngram_range: (1, 1), vocab_size: 22131\n",
      "min_df: 3, token_pattern: \\b\\w\\w\\w\\w+\\b, ngram_range: (1, 2), vocab_size: 191682\n",
      "min_df: 3, token_pattern: \\b\\w\\w\\w\\w+\\b, ngram_range: (1, 3), vocab_size: 237277\n",
      "min_df: 3, token_pattern: \\b\\w\\w\\w\\w\\w+\\b, ngram_range: (1, 1), vocab_size: 19026\n",
      "min_df: 3, token_pattern: \\b\\w\\w\\w\\w\\w+\\b, ngram_range: (1, 2), vocab_size: 116988\n",
      "min_df: 3, token_pattern: \\b\\w\\w\\w\\w\\w+\\b, ngram_range: (1, 3), vocab_size: 123484\n",
      "min_df: 3, token_pattern: \\b\\w\\w\\w\\w\\w\\w+\\b, ngram_range: (1, 1), vocab_size: 14676\n",
      "min_df: 3, token_pattern: \\b\\w\\w\\w\\w\\w\\w+\\b, ngram_range: (1, 2), vocab_size: 65837\n",
      "min_df: 3, token_pattern: \\b\\w\\w\\w\\w\\w\\w+\\b, ngram_range: (1, 3), vocab_size: 67530\n",
      "min_df: 4, token_pattern: \\b\\w\\w+\\b, ngram_range: (1, 1), vocab_size: 20374\n",
      "min_df: 4, token_pattern: \\b\\w\\w+\\b, ngram_range: (1, 2), vocab_size: 177975\n",
      "min_df: 4, token_pattern: \\b\\w\\w+\\b, ngram_range: (1, 3), vocab_size: 317971\n",
      "min_df: 4, token_pattern: \\b\\w\\w\\w+\\b, ngram_range: (1, 1), vocab_size: 20079\n",
      "min_df: 4, token_pattern: \\b\\w\\w\\w+\\b, ngram_range: (1, 2), vocab_size: 159661\n",
      "min_df: 4, token_pattern: \\b\\w\\w\\w+\\b, ngram_range: (1, 3), vocab_size: 242724\n",
      "min_df: 4, token_pattern: \\b\\w\\w\\w\\w+\\b, ngram_range: (1, 1), vocab_size: 19059\n",
      "min_df: 4, token_pattern: \\b\\w\\w\\w\\w+\\b, ngram_range: (1, 2), vocab_size: 131507\n",
      "min_df: 4, token_pattern: \\b\\w\\w\\w\\w+\\b, ngram_range: (1, 3), vocab_size: 155490\n",
      "min_df: 4, token_pattern: \\b\\w\\w\\w\\w\\w+\\b, ngram_range: (1, 1), vocab_size: 16272\n",
      "min_df: 4, token_pattern: \\b\\w\\w\\w\\w\\w+\\b, ngram_range: (1, 2), vocab_size: 76818\n",
      "min_df: 4, token_pattern: \\b\\w\\w\\w\\w\\w+\\b, ngram_range: (1, 3), vocab_size: 79472\n",
      "min_df: 4, token_pattern: \\b\\w\\w\\w\\w\\w\\w+\\b, ngram_range: (1, 1), vocab_size: 12412\n",
      "min_df: 4, token_pattern: \\b\\w\\w\\w\\w\\w\\w+\\b, ngram_range: (1, 2), vocab_size: 42346\n",
      "min_df: 4, token_pattern: \\b\\w\\w\\w\\w\\w\\w+\\b, ngram_range: (1, 3), vocab_size: 43003\n",
      "min_df: 5, token_pattern: \\b\\w\\w+\\b, ngram_range: (1, 1), vocab_size: 18218\n",
      "min_df: 5, token_pattern: \\b\\w\\w+\\b, ngram_range: (1, 2), vocab_size: 142452\n",
      "min_df: 5, token_pattern: \\b\\w\\w+\\b, ngram_range: (1, 3), vocab_size: 243123\n",
      "min_df: 5, token_pattern: \\b\\w\\w\\w+\\b, ngram_range: (1, 1), vocab_size: 17952\n",
      "min_df: 5, token_pattern: \\b\\w\\w\\w+\\b, ngram_range: (1, 2), vocab_size: 125443\n",
      "min_df: 5, token_pattern: \\b\\w\\w\\w+\\b, ngram_range: (1, 3), vocab_size: 183114\n",
      "min_df: 5, token_pattern: \\b\\w\\w\\w\\w+\\b, ngram_range: (1, 1), vocab_size: 17017\n",
      "min_df: 5, token_pattern: \\b\\w\\w\\w\\w+\\b, ngram_range: (1, 2), vocab_size: 99854\n",
      "min_df: 5, token_pattern: \\b\\w\\w\\w\\w+\\b, ngram_range: (1, 3), vocab_size: 115177\n",
      "min_df: 5, token_pattern: \\b\\w\\w\\w\\w\\w+\\b, ngram_range: (1, 1), vocab_size: 14448\n",
      "min_df: 5, token_pattern: \\b\\w\\w\\w\\w\\w+\\b, ngram_range: (1, 2), vocab_size: 56536\n",
      "min_df: 5, token_pattern: \\b\\w\\w\\w\\w\\w+\\b, ngram_range: (1, 3), vocab_size: 57951\n",
      "min_df: 5, token_pattern: \\b\\w\\w\\w\\w\\w\\w+\\b, ngram_range: (1, 1), vocab_size: 10938\n",
      "min_df: 5, token_pattern: \\b\\w\\w\\w\\w\\w\\w+\\b, ngram_range: (1, 2), vocab_size: 31071\n",
      "min_df: 5, token_pattern: \\b\\w\\w\\w\\w\\w\\w+\\b, ngram_range: (1, 3), vocab_size: 31401\n"
     ]
    }
   ],
   "source": [
    "# Testar diferentes parâmetros para TF-IDF\n",
    "# Parâmetros a testar\n",
    "dfs = [1, 2, 3, 4, 5]  # Frequências mínimas de palavras\n",
    "tps = [\n",
    "    r'\\b\\w\\w+\\b',        # Tokens com 2 ou mais caracteres\n",
    "    r'\\b\\w\\w\\w+\\b',      # Tokens com 3 ou mais caracteres\n",
    "    r'\\b\\w\\w\\w\\w+\\b',    # Tokens com 4 ou mais caracteres\n",
    "    r'\\b\\w\\w\\w\\w\\w+\\b',  # Tokens com 5 ou mais caracteres\n",
    "    r'\\b\\w\\w\\w\\w\\w\\w+\\b' # Tokens com 6 ou mais caracteres\n",
    "]\n",
    "ngram_ranges = [(1, 1), (1, 2), (1, 3)]  # Unigramas, bigramas e trigramas\n",
    "\n",
    "# Combinações de parâmetros a serem testadas\n",
    "combos = [(df, tp, ngram) for df in dfs for tp in tps for ngram in ngram_ranges]\n",
    "\n",
    "# Obtenção dos modelos TF-IDF e contagem do vocabulário\n",
    "def testar_parametros(docs):\n",
    "    resultados = []\n",
    "    for (df, tp, ngram) in combos:\n",
    "        tfidf = TfidfVectorizer(min_df=df, token_pattern=tp, ngram_range=ngram)\n",
    "        tfidf.fit(docs)\n",
    "        vocab_size = len(tfidf.get_feature_names_out())  # Tamanho do vocabulário\n",
    "        resultados.append((df, tp, ngram, vocab_size))\n",
    "    return resultados\n",
    "\n",
    "# Executar teste nos documentos de treino\n",
    "inicio = time.time()\n",
    "resultados_tokens = testar_parametros(docs1)\n",
    "fim = time.time()\n",
    "\n",
    "# Exibir os resultados\n",
    "print(f\"Teste concluído em {fim - inicio:.2f} segundos\")\n",
    "for res in resultados_tokens:\n",
    "    print(f\"min_df: {res[0]}, token_pattern: {res[1]}, ngram_range: {res[2]}, vocab_size: {res[3]}\")"
   ]
  },
  {
   "cell_type": "markdown",
   "id": "75fe18ca",
   "metadata": {},
   "source": [
    "Os resultados anteriores mostram como diferentes combinações de parâmetros afetam o tamanho do vocabulário gerado.  \n",
    "- `min_df`:\n",
    "  - Valores baixos (1, 2), geram vocabulários muito grandes, o que pode incluir ruído (palavras raras ou irrelevantes);\n",
    "  - Valores médios (3, 4), reduzem o vocabulário sem sacrificar muito a semântica das palavras;\n",
    "  - Para um balanço entre qualidade e tamanho, será escolhido um `min_df=4`.\n",
    "- `token_pattern`:\n",
    "  - Tokens com 2 caracteres resultam num vocabulário muito grande, incluindo palavras muito curtas que, geralmente, são menos informativas;\n",
    "  - Tokens com 5 ou mais caracteres (`\\b\\w\\w\\w\\w\\w+\\b`) geram vocabulários menores, focando em palavras mais relevantes, no entanto, podem excluir palavras curtas úteis;\n",
    "  - Para redução do vocabulário, sem perder termos importantes, escolheremos um `token_pattern=r'\\b\\w\\w\\w+\\b'`.\n",
    "- `ngram_range`:\n",
    "  - Unigramas (1,1), foca em palavras individuais.\n",
    "  - Uni e Bigramas (1,2), aumenta significativamente o tamanho do vocabulário, mas captura relações entre palavras adjacentes.\n",
    "  - Uni, Bi e Trigramas (1,3), gera vocabulários demasiado grandes, dificultando o treino.\n",
    "  - Será então escolhido um `ngram_range=(1,2)` para a captura de informações textuais sem o crescimento excessivo do vocabulário.\n",
    "  \n",
    "Podemos observar que, com a escolha destes parâmetros, o tamanho do vocabulário é de 159661 tokens."
   ]
  },
  {
   "cell_type": "code",
   "execution_count": 19,
   "id": "17b524f6-8cc6-45ad-ae46-8ffae6dfb5c3",
   "metadata": {},
   "outputs": [
    {
     "name": "stdout",
     "output_type": "stream",
     "text": [
      "Tempo de execução: 109.70 segundos\n"
     ]
    }
   ],
   "source": [
    "inicio = time.time()\n",
    "Docs_train, Docs_test, y_train, y_test = train_test_split(Docs, target, test_size=0.5, random_state=42)\n",
    "\n",
    "# Dados de treino\n",
    "tfidf_train, token_train = vetorizacao(docs1)\n",
    "pickle.dump(tfidf_train, open(\"tfidf_train.p\",'wb'))\n",
    "pickle.dump(token_train, open(\"tokens_train.p\",'wb'))\n",
    "\n",
    "# Dados de teste\n",
    "docs2 = limpar(Docs_test) # Limpar\n",
    "pickle.dump(docs2, open(\"dados_limpos_test.p\",'wb'))\n",
    "docs2 = stemming(docs2)   # Stemming\n",
    "pickle.dump(docs2, open(\"dados_stem_test.p\",'wb'))\n",
    "\n",
    "fim = time.time()\n",
    "print(f\"Tempo de execução: {fim-inicio:.2f} segundos\")"
   ]
  },
  {
   "cell_type": "code",
   "execution_count": 21,
   "id": "f63ae6d5-d6f0-4c28-9e25-f76a7f67582e",
   "metadata": {},
   "outputs": [],
   "source": [
    "X1 = tfidf_train.transform(docs1)\n",
    "pickle.dump(X1, open(\"X_train.p\",'wb'))\n",
    "X2 = tfidf_train.transform(docs2)\n",
    "pickle.dump(X2, open(\"X_test.p\",'wb'))\n",
    "# Matrizes esparsas X1 e X2 com shape (dim_dados, dim_vocabulario)"
   ]
  },
  {
   "cell_type": "code",
   "execution_count": 13,
   "id": "c1fe47d4",
   "metadata": {},
   "outputs": [],
   "source": [
    "Docs_train, Docs_test, y_train, y_test = train_test_split(Docs, target, test_size=0.5, random_state=42)\n",
    "\n",
    "docs1       = pickle.load(open('dados_stem.p','rb'))\n",
    "tfidf_train = pickle.load(open('tfidf_train.p','rb'))\n",
    "token_train = pickle.load(open('tokens_train.p','rb'))\n",
    "docs2       = pickle.load(open('dados_stem_test.p','rb'))\n",
    "X1          = pickle.load(open('X_train.p','rb'))\n",
    "X2          = pickle.load(open('X_test.p','rb'))"
   ]
  },
  {
   "cell_type": "markdown",
   "id": "068183e4",
   "metadata": {},
   "source": [
    "X1 e X2 são matrizes esparsas (documento-termo) de dimensão (25000, 159661)\n",
    "- 25000 documentos\n",
    "- 159661 palavras no vocabulário"
   ]
  },
  {
   "cell_type": "code",
   "execution_count": 12,
   "id": "8ef2076b",
   "metadata": {},
   "outputs": [
    {
     "name": "stdout",
     "output_type": "stream",
     "text": [
      "(25000, 159661) <class 'scipy.sparse.csr.csr_matrix'>\n"
     ]
    }
   ],
   "source": [
    "print(X1.shape, type(X1))"
   ]
  },
  {
   "cell_type": "code",
   "execution_count": 70,
   "id": "3664614d",
   "metadata": {},
   "outputs": [
    {
     "data": {
      "image/png": "[encoded data removed]",
      "text/plain": [
       "<Figure size 720x432 with 1 Axes>"
      ]
     },
     "metadata": {
      "needs_background": "light"
     },
     "output_type": "display_data"
    }
   ],
   "source": [
    "# Obter os valores máximos para cada token\n",
    "xM = np.max(X1, axis=0).toarray().squeeze()\n",
    "idx = np.argsort(-xM)  # Ordenar os índices pelo valor máximo (descendente)\n",
    "voc = [token_train[i] for i in idx]  # Tokens ordenados pela importância\n",
    "\n",
    "# Selecionar os 10 tokens mais importantes\n",
    "top_10_tokens = voc[:10]\n",
    "top_10_values = xM[idx[:10]]\n",
    "\n",
    "# Criar o gráfico\n",
    "plt.figure(figsize=(10, 6))\n",
    "plt.barh(top_10_tokens[::-1], top_10_values[::-1], align='center')  # Gráfico horizontal\n",
    "plt.xlabel('TF-IDF Value')\n",
    "plt.title('Top 10 Tokens Mais Importantes')\n",
    "plt.tight_layout()\n",
    "plt.show()"
   ]
  },
  {
   "cell_type": "code",
   "execution_count": 68,
   "id": "806d1313",
   "metadata": {},
   "outputs": [
    {
     "name": "stdout",
     "output_type": "stream",
     "text": [
      "Dimensão do vocabulário: 159661\n",
      "Número de uni-gramas: 20079\n",
      "Número de bi-gramas: 139582\n"
     ]
    }
   ],
   "source": [
    "# Quantas palavras no voc são uni gramas ou bi gramas\n",
    "wC=np.array([len(w.split()) for w in voc])\n",
    "print('Dimensão do vocabulário:',X1.shape[1])\n",
    "print('Número de uni-gramas:',np.sum(wC==1))\n",
    "print('Número de bi-gramas:',np.sum(wC==2))"
   ]
  },
  {
   "cell_type": "markdown",
   "id": "51800de9",
   "metadata": {},
   "source": [
    "---"
   ]
  },
  {
   "cell_type": "markdown",
   "id": "02e98d7f",
   "metadata": {},
   "source": [
    "<a id=\"rdg\"></a>\n",
    "<a id=\"lrg\"></a>\n",
    "## Classificação e regressão\n",
    "\n",
    "Escolhémos um classificador e uma regresão e fizémos o teste para definir quais os melhores parâmetros. O regressor escolhido foi o Ridge e o classificador o LogisticRegression. Para testar quais os melhoreshiperparâmetros, utilizámos GridSearchCV para testar quais os melhores hiperparâmetros para o modelo. \n",
    "\n",
    "**Ridge**:\n",
    "- Parâmetro 𝛼:\n",
    "  - Valores baixos: Menor penalização e por consequente permite ao modelo ajustar-se aos dados. Maior probabilidade de ocorrer em overfitting\n",
    "  - Valores altos: Maior penalização, simplificando-o mas havendo a probabilidade de entrar em underfitting\n",
    "\n",
    "\n",
    "**Logistic Regression**:  \n",
    "- Penalty Types:\n",
    "  - `l1`: Aplica a regularização L1 (Lasso), que incentiva a esparsidade nos coeficientes, ou seja, tende a reduzir alguns coeficientes a exatamente zero, torna do o modelo mais interpretável.\n",
    "  - `l2`: Aplica a regularização L2 (Ridge), que reduz os valores dos coeficientes, mas sem os tornar exatamente zero. É útil para prevenir o overfitting.\n",
    "- Parâmetro C:\n",
    "  - Valores baixos: aumentam a penalização, simplificando o modelo e diminuindo a probabilidade de ocorrer overfitting\n",
    "  - Valores altos: permite uma maior flexibilidade para o modelo se ajustar aos dados\n"
   ]
  },
  {
   "cell_type": "code",
   "execution_count": 15,
   "id": "79d3750e-e961-4e95-b54a-b4efc08133d0",
   "metadata": {},
   "outputs": [],
   "source": [
    "def convert_to_class(value):\n",
    "    if 4 <= value <= 5.5:\n",
    "        return 4\n",
    "    elif 5.5 < value <= 7:\n",
    "        return 7\n",
    "    else:\n",
    "        return round(value)"
   ]
  },
  {
   "cell_type": "code",
   "execution_count": 27,
   "id": "322a7328",
   "metadata": {},
   "outputs": [
    {
     "name": "stdout",
     "output_type": "stream",
     "text": [
      "Melhores parâmetros para Ridge: {'alpha': 1.0}\n",
      "Ridge \n",
      "Matriz de confusão:\n",
      "  [[  0   0   0   0   0   0   0   0   0   0   0   0   0   0   0]\n",
      " [  0   0   0   0   0   0   0   0   0   0   0   0   0   0   0]\n",
      " [  0   0   0   0   0   0   0   0   0   0   0   0   0   0   0]\n",
      " [  0   0   0   0   0   0   0   0   0   0   0   0   0   0   0]\n",
      " [  0   2  21  57 132 214 257 276  49   2   2   0   0   0   0]\n",
      " [  1   0   5   9  40  74 102 210  29   0   0   0   0   0   0]\n",
      " [  0   0   3   4  18  65  87 250  76   5   1   0   0   0   0]\n",
      " [  0   0   0   4  14  29  83 263 120   7   1   0   0   0   0]\n",
      " [  0   0   0   0   1   2   3  83 240  95  42   8   0   0   0]\n",
      " [  0   0   0   1   0   0   0  42 268 154  85  21   2   2   0]\n",
      " [  0   0   0   0   0   0   3  37 172 145  96  35   8   2   0]\n",
      " [  0   0   0   0   0   0   5  33 302 240 221 100  31   8   1]\n",
      " [  0   0   0   0   0   0   0   0   0   0   0   0   0   0   0]\n",
      " [  0   0   0   0   0   0   0   0   0   0   0   0   0   0   0]\n",
      " [  0   0   0   0   0   0   0   0   0   0   0   0   0   0   0]]\n",
      "MSE:  4.178445633922152\n",
      "R^2:  0.6541982181893657 \n",
      "\n"
     ]
    },
    {
     "name": "stderr",
     "output_type": "stream",
     "text": [
      "C:\\Users\\User\\anaconda3\\Lib\\site-packages\\sklearn\\model_selection\\_validation.py:547: FitFailedWarning: \n",
      "5 fits failed out of a total of 10.\n",
      "The score on these train-test partitions for these parameters will be set to nan.\n",
      "If these failures are not expected, you can try to debug them by setting error_score='raise'.\n",
      "\n",
      "Below are more details about the failures:\n",
      "--------------------------------------------------------------------------------\n",
      "5 fits failed with the following error:\n",
      "Traceback (most recent call last):\n",
      "  File \"C:\\Users\\User\\anaconda3\\Lib\\site-packages\\sklearn\\model_selection\\_validation.py\", line 895, in _fit_and_score\n",
      "    estimator.fit(X_train, y_train, **fit_params)\n",
      "  File \"C:\\Users\\User\\anaconda3\\Lib\\site-packages\\sklearn\\base.py\", line 1474, in wrapper\n",
      "    return fit_method(estimator, *args, **kwargs)\n",
      "           ^^^^^^^^^^^^^^^^^^^^^^^^^^^^^^^^^^^^^^\n",
      "  File \"C:\\Users\\User\\anaconda3\\Lib\\site-packages\\sklearn\\linear_model\\_logistic.py\", line 1172, in fit\n",
      "    solver = _check_solver(self.solver, self.penalty, self.dual)\n",
      "             ^^^^^^^^^^^^^^^^^^^^^^^^^^^^^^^^^^^^^^^^^^^^^^^^^^^\n",
      "  File \"C:\\Users\\User\\anaconda3\\Lib\\site-packages\\sklearn\\linear_model\\_logistic.py\", line 67, in _check_solver\n",
      "    raise ValueError(\n",
      "ValueError: Solver lbfgs supports only 'l2' or None penalties, got l1 penalty.\n",
      "\n",
      "  warnings.warn(some_fits_failed_message, FitFailedWarning)\n",
      "C:\\Users\\User\\anaconda3\\Lib\\site-packages\\sklearn\\model_selection\\_search.py:1051: UserWarning: One or more of the test scores are non-finite: [    nan 0.36305]\n",
      "  warnings.warn(\n"
     ]
    },
    {
     "name": "stdout",
     "output_type": "stream",
     "text": [
      "Melhores parâmetros para Logistic Regression: {'C': 0.1, 'penalty': 'l2'}\n",
      "\n",
      "Logistic Regression :\n",
      "Precisao:  0.3676\n",
      "Matriz de confusão:\n",
      " [[924   0   0   1   0   2   0  85]\n",
      " [407   0   0   3   0   1   0  59]\n",
      " [376   0   0   9   0   5   0 119]\n",
      " [309   0   0  25   0  10   0 177]\n",
      " [ 92   0   0  13   1  31   0 337]\n",
      " [ 82   0   0   2   0  30   0 461]\n",
      " [ 57   0   0   1   0  20   0 420]\n",
      " [ 76   0   0   2   0   5   0 858]]\n"
     ]
    }
   ],
   "source": [
    "X_train_split, X_val, y_train_split, y_val = train_test_split(X1, y_train, test_size=0.2, random_state=42)\n",
    "\n",
    "ridge_model = Ridge()\n",
    "\n",
    "ridge_param_grid = {'alpha': [0.1, 1.0, 10.0]}\n",
    "\n",
    "ridge_search = GridSearchCV(ridge_model, ridge_param_grid, scoring='neg_mean_squared_error', cv=5)\n",
    "\n",
    "ridge_search.fit(X_train_split, y_train_split)\n",
    "\n",
    "print(f\"Melhores parâmetros para Ridge: {ridge_search.best_params_}\")\n",
    "\n",
    "ridge_model = ridge_search.best_estimator_ \n",
    "\n",
    "# Treinar o melhor modelo com os dados completos\n",
    "ridge_model.fit(X_train_split, y_train_split)\n",
    "\n",
    "y_pred_rg = ridge_model.predict(X_val)\n",
    "\n",
    "# Converter previsões contínuas para classes\n",
    "y_pred_rgc = [convert_to_class(pred) for pred in y_pred_rg]\n",
    "\n",
    "\n",
    "mc_rg = confusion_matrix(y_val, y_pred_rgc)\n",
    "mse_rg = mean_squared_error(y_val, y_pred_rg)\n",
    "r2_rg = r2_score(y_val, y_pred_rg)\n",
    "\n",
    "\n",
    "print(\"Ridge \")\n",
    "print(\"Matriz de confusão:\\n \", mc_rg)\n",
    "print(\"MSE: \", mse_rg)\n",
    "print(\"R^2: \", r2_rg, \"\\n\")\n",
    "\n",
    "lr_model = LogisticRegression(max_iter=500)\n",
    "\n",
    "lr_param_grid = {\n",
    "    'C':[0.1],\n",
    "    'penalty':['l1','l2']\n",
    "}\n",
    "\n",
    "lr_search = GridSearchCV(lr_model, lr_param_grid, scoring='accuracy', cv=5)\n",
    "lr_search.fit(X_train_split, y_train_split)\n",
    "\n",
    "print(f\"Melhores parâmetros para Logistic Regression: {lr_search.best_params_}\")\n",
    "\n",
    "best_lr_model = lr_search.best_estimator_\n",
    "best_lr_model.fit(X_train_split, y_train_split)\n",
    "lr_pred_class = best_lr_model.predict(X_val)\n",
    "\n",
    "print(\"\\nLogistic Regression :\")\n",
    "print(\"Precisao: \",accuracy_score(y_val, lr_pred_class))\n",
    "print(\"Matriz de confusão:\\n\", confusion_matrix(y_val, lr_pred_class))"
   ]
  },
  {
   "cell_type": "markdown",
   "id": "6d993ad7-83a3-44fa-90fb-9f9cf3fae84b",
   "metadata": {},
   "source": [
    "Tendo em conta os resultados podemos concluir que o Ridge é melhor dos dois"
   ]
  },
  {
   "cell_type": "code",
   "execution_count": 30,
   "id": "4c352d2b",
   "metadata": {},
   "outputs": [],
   "source": [
    "ridge = Ridge(alpha= 1.0)\n",
    "lr = LogisticRegression(C=0.1,penalty='l2')\n",
    "\n",
    "ridge.fit(X1,y_train)\n",
    "lr.fit(X1, y_train)\n",
    "\n",
    "yRg_pred = ridge.predict(X2)\n",
    "yLr_pred = lr.predict(X2)"
   ]
  },
  {
   "cell_type": "code",
   "execution_count": 48,
   "id": "3006e4fb",
   "metadata": {},
   "outputs": [
    {
     "name": "stdout",
     "output_type": "stream",
     "text": [
      "Logistic Regression: \n",
      "Precisão:  0.37664\n",
      "Matriz de confusão: \n",
      " [[4646    0    0   13    0    6    0  360]\n",
      " [1917    0    0   34    1   16    0  301]\n",
      " [1780    0    0  114    4   46    0  511]\n",
      " [1560    0    0  229    3   85    0  812]\n",
      " [ 452    0    0   98   16  236    0 1653]\n",
      " [ 348    0    0   31   10  185    0 2348]\n",
      " [ 220    0    0   17    3   85    0 1948]\n",
      " [ 475    0    0    4    5   88    0 4340]]\n",
      "\n",
      " \n",
      " Ridge: \n",
      "MSE:  4.137961807216111\n",
      "R^2:  0.6574986900695412\n",
      "Precisão:  0.24004\n",
      "Matriz de confusão: \n",
      " [[   0    0    0    0    0    0    0    0    0    0    0    0    0    0\n",
      "     0    0]\n",
      " [   0    0    0    0    0    0    0    0    0    0    0    0    0    0\n",
      "     0    0]\n",
      " [   0    0    0    0    0    0    0    0    0    0    0    0    0    0\n",
      "     0    0]\n",
      " [   0    0    0    0    0    0    0    0    0    0    0    0    0    0\n",
      "     0    0]\n",
      " [   0    0    0    0    0    0    0    0    0    0    0    0    0    0\n",
      "     0    0]\n",
      " [   2    8   37  148  347  742 1009 1227 1267  215   16    7    0    0\n",
      "     0    0]\n",
      " [   0    4    4   20   74  180  408  556  853  163    4    2    1    0\n",
      "     0    0]\n",
      " [   0    0    1    8   27  140  302  527 1123  305   13    5    3    0\n",
      "     1    0]\n",
      " [   0    0    0    6   17   64  204  429 1339  573   49    7    1    0\n",
      "     0    0]\n",
      " [   0    0    0    0    0    1    7   18  403 1255  500  207   59    4\n",
      "     1    0]\n",
      " [   0    0    0    0    0    0    1   13  223 1283  773  434  146   41\n",
      "     7    1]\n",
      " [   0    0    0    0    0    0    0    7  129  832  608  452  184   51\n",
      "     8    2]\n",
      " [   0    0    0    0    1    2    1    9  250 1532 1316 1044  505  191\n",
      "    46   15]\n",
      " [   0    0    0    0    0    0    0    0    0    0    0    0    0    0\n",
      "     0    0]\n",
      " [   0    0    0    0    0    0    0    0    0    0    0    0    0    0\n",
      "     0    0]\n",
      " [   0    0    0    0    0    0    0    0    0    0    0    0    0    0\n",
      "     0    0]]\n"
     ]
    }
   ],
   "source": [
    "yLr_pred_class = [convert_to_class(pred) for pred in yLr_pred]\n",
    "yRg_pred_class = [convert_to_class(pred) for pred in yRg_pred]\n",
    "\n",
    "print(\"Logistic Regression: \")\n",
    "print(\"Precisão: \", accuracy_score(y_test, yLr_pred_class))\n",
    "print(\"Matriz de confusão: \\n\", confusion_matrix(y_test, yLr_pred_class))\n",
    "\n",
    "\n",
    "print(\"\\n \\n Ridge: \")\n",
    "print(\"MSE: \", mean_squared_error(y_test, yRg_pred))\n",
    "print(\"R^2: \", r2_score(y_test, yRg_pred))\n",
    "print(\"Precisão: \", accuracy_score(y_test, yRg_pred_class))\n",
    "print(\"Matriz de confusão: \\n\",confusion_matrix(y_test, yRg_pred_class))"
   ]
  },
  {
   "cell_type": "markdown",
   "id": "9e1aa7ea-30a6-4c20-accf-905bba13e3aa",
   "metadata": {},
   "source": [
    "Tendo em conta os resultados obtidos podemos concluir que no processo de classificação LogisticRegression é melhor relativamente ao Ridge por ter uma maior precisão. Tivemos ainda algumas limitações na definição dos melhores hiperparâmetros para o LogisticRegression, pois tivemos de diminuir o número de hiperparâmetros a ter em conta para ser possível que este corresse em tempo útil."
   ]
  },
  {
   "cell_type": "markdown",
   "id": "36e4bd9c-bae6-4dd4-aa22-756709b47e2a",
   "metadata": {},
   "source": [
    "<a id=\"clt\"></a>\n",
    "## Clustering"
   ]
  },
  {
   "cell_type": "markdown",
   "id": "de2c2dd2-1622-47b2-891f-e21c4b01791d",
   "metadata": {},
   "source": [
    "O K-Means é um algoritmo simples de aprendizagem não supervisionada, que tem o objetivo de dividir em k clusters, em que cada ponto de dados pertence ao centróide mais próximo.\n",
    "O algoritmo segue os seguintes passos:\n",
    " - Escolhe aleatoriamente k centróides\n",
    " - A cada um dos pontos é atribuído um cluster cujo centróide esteja mais próximo\n",
    " - É feita uma atualização dos centróides, sendo estes recalculado\n",
    "Estes passos repetem-se até que os centróides não mudem de posição ou o número máximo de iterações seja atingido\n",
    "\n",
    "\n",
    "**Inércia:**\n",
    "Esta métrica avalia se os dados estão bem agrupados em relação ao seu centróide através da seguinte fórmula:\n",
    "$$\n",
    "\\text{Inércia} = \\sum_{i=1}^{k} \\sum_{x \\in C_i} ||x - \\mu_i||^2\n",
    "$$\n",
    "\n",
    "\n",
    "\n",
    "O método do cotovelo foi utilizado para determinar qual o número ideal de clusters"
   ]
  },
  {
   "cell_type": "code",
   "execution_count": 38,
   "id": "f2e2735e",
   "metadata": {},
   "outputs": [
    {
     "data": {
      "text/plain": [
       "Text(0.5, 1.0, 'Método do Cotovelo')"
      ]
     },
     "execution_count": 38,
     "metadata": {},
     "output_type": "execute_result"
    },
    {
     "data": {
      "image/png": "[encoded data removed]",
      "text/plain": [
       "<Figure size 800x500 with 1 Axes>"
      ]
     },
     "metadata": {},
     "output_type": "display_data"
    }
   ],
   "source": [
    "inercia = []\n",
    "valores_K = range(2,10)\n",
    "\n",
    "for k in valores_K:\n",
    "    kmeans = KMeans(n_clusters=k, random_state=42)\n",
    "    kmeans.fit(X1)  # Use sua matriz TF-IDF\n",
    "    inercia.append(kmeans.inertia_)\n",
    "\n",
    "plt.figure(figsize=(8, 5))\n",
    "plt.plot(valores_K, inercia, marker='o')\n",
    "plt.xlabel('Clusters')\n",
    "plt.ylabel('Inércia')\n",
    "plt.title('Método do Cotovelo')"
   ]
  },
  {
   "cell_type": "code",
   "execution_count": 39,
   "id": "4fc52fd3",
   "metadata": {},
   "outputs": [],
   "source": [
    "k = 6\n",
    "kmeans = KMeans(n_clusters=k, random_state=42)\n",
    "kmeans.fit(X1)\n",
    "labels = kmeans.labels_"
   ]
  },
  {
   "cell_type": "code",
   "execution_count": 40,
   "id": "61074372",
   "metadata": {},
   "outputs": [
    {
     "name": "stdout",
     "output_type": "stream",
     "text": [
      "Cluster 0:\n",
      "['the', 'worst', 'movi', 'the worst', 'thi', 'and', 'ever', 'seen', 'ever seen', 'worst movi']\n",
      "Cluster 1:\n",
      "['the', 'her', 'she', 'and', 'that', 'with', 'thi', 'for', 'but', 'film']\n",
      "Cluster 2:\n",
      "['the', 'and', 'thi', 'that', 'you', 'movi', 'for', 'with', 'film', 'but']\n",
      "Cluster 3:\n",
      "['the', 'movi', 'and', 'thi', 'thi movi', 'that', 'you', 'the movi', 'but', 'not']\n",
      "Cluster 4:\n",
      "['the', 'and', 'film', 'thi', 'that', 'for', 'with', 'but', 'are', 'the film']\n",
      "Cluster 5:\n",
      "['the', 'and', 'that', 'film', 'thi', 'with', 'for', 'movi', 'but', 'are']\n"
     ]
    }
   ],
   "source": [
    "tfidf_cluster, tokens_cluster = vetorizacao(docs1)\n",
    "terms = tfidf_cluster.get_feature_names_out()  # Supondo que 'tfidf' é o vectorizer\n",
    "for i in range(k):\n",
    "    print(f\"Cluster {i}:\")\n",
    "    cluster_center = kmeans.cluster_centers_[i]\n",
    "    top_terms = cluster_center.argsort()[-10:][::-1]  # Top 10 termos\n",
    "    print([terms[t] for t in top_terms])"
   ]
  },
  {
   "cell_type": "code",
   "execution_count": 41,
   "id": "89272ed1-5760-4252-b737-1c47ced15f80",
   "metadata": {},
   "outputs": [
    {
     "name": "stdout",
     "output_type": "stream",
     "text": [
      "Silhouette Score para k=5: -0.0024\n",
      "Silhouette Score para k=6: -0.0042\n",
      "Silhouette Score para k=8: -0.0046\n"
     ]
    }
   ],
   "source": [
    "for k in [5, 6, 8]:\n",
    "    kmeans = KMeans(n_clusters=k, random_state=42)\n",
    "    labels = kmeans.fit_predict(X1)\n",
    "    score = silhouette_score(X1, labels)\n",
    "    print(f\"Silhouette Score para k={k}: {score:.4f}\")"
   ]
  },
  {
   "cell_type": "markdown",
   "id": "e55062b4",
   "metadata": {},
   "source": [
    "<a id=\"conc\"></a>\n",
    "# Conclusões\n",
    "\n",
    "Neste trabalho explorámos diferentes maneiras de classificar critícas de cinema utilizandos técnicas de aprendizagem auotmático supervisionada e não supervisionada. Na classificação utilizámos o LogisticRegression e na regressão o Ridge, que se evidanciaram não só pelos resultados diferentes que obtivemos de cada um mas também no tempo de execução destes. \n",
    "Em suma, durante a realização deste trabalho conseguimos entender melhor as capacidades e limitações da aprendizagem supervisionada e não supervisionada."
   ]
  },
  {
   "cell_type": "markdown",
   "id": "d4b05635",
   "metadata": {},
   "source": [
    "---"
   ]
  },
  {
   "cell_type": "markdown",
   "id": "695bd584",
   "metadata": {},
   "source": [
    "<a id=\"bib\"></a>\n",
    "# Bibliografia\n",
    "* Slides das aulas\n",
    "* Scikit-learn User Guide (https://scikit-learn.org/stable/user_guide.html)\n",
    "* Scikit-learn Ridge (https://scikit-learn.org/1.5/modules/generated/sklearn.linear_model.Ridge.html)\n",
    "* Scikit-learn LogisticRegression (https://scikit-learn.org/1.5/modules/generated/sklearn.linear_model.LogisticRegression.html)"
   ]
  },
  {
   "cell_type": "markdown",
   "id": "c707cf07",
   "metadata": {},
   "source": [
    "* [Voltar ao início](#indice)"
   ]
  },
  {
   "cell_type": "markdown",
   "id": "29d7aef5",
   "metadata": {},
   "source": [
    "---"
   ]
  }
 ],
 "metadata": {
  "kernelspec": {
   "display_name": "Python 3 (ipykernel)",
   "language": "python",
   "name": "python3"
  },
  "language_info": {
   "codemirror_mode": {
    "name": "ipython",
    "version": 3
   },
   "file_extension": ".py",
   "mimetype": "text/x-python",
   "name": "python",
   "nbconvert_exporter": "python",
   "pygments_lexer": "ipython3",
   "version": "3.12.4"
  }
 },
 "nbformat": 4,
 "nbformat_minor": 5
}
